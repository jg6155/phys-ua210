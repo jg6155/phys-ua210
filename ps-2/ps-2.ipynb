{
 "cells": [
  {
   "cell_type": "markdown",
   "metadata": {},
   "source": [
    "Question 1: 1111001\n",
    "Question 2:"
   ]
  },
  {
   "cell_type": "code",
   "execution_count": 3,
   "metadata": {},
   "outputs": [
    {
     "name": "stdout",
     "output_type": "stream",
     "text": [
      "The slowest run took 4.70 times longer than the fastest. This could mean that an intermediate result is being cached.\n",
      "229 ms ± 93 ms per loop (mean ± std. dev. of 7 runs, 1 loop each)\n",
      "7.45 s ± 1.8 s per loop (mean ± std. dev. of 7 runs, 1 loop each)\n"
     ]
    }
   ],
   "source": [
    "from scipy.constants import epsilon_0,e\n",
    "from math import pi,sqrt\n",
    "import numpy as np\n",
    "def calc_Madelung1(lattice_size):\n",
    "    L = lattice_size\n",
    "    res = 0\n",
    "    for i in range(-L,L):\n",
    "        for j in range(-L,L):\n",
    "            for k in range(-L,L):\n",
    "                if 0 == i == k == j:\n",
    "                    continue\n",
    "                if (i+j+k)%2 == 1:\n",
    "                    res += 1/(sqrt(i**2+j**2+k**2))\n",
    "                else:\n",
    "                    res-= 1/(sqrt(i**2+j**2+k**2))\n",
    "    return res\n",
    "def calc_Madelung2(lattice_size):\n",
    "    L = lattice_size\n",
    "    i,j,k = np.meshgrid(np.arange(-L,L),np.arange(-L,L),np.arange(-L,L),indexing = 'ij')\n",
    "    distances = np.sqrt(i**2+j**2+k**2)\n",
    "    distances[distances == 0] = np.inf\n",
    "    sum_vals = np.where((i+j+k)%2==0,1,-1)/distances\n",
    "    return np.sum(sum_vals)\n",
    "\n",
    "%timeit calc_Madelung2(50)\n",
    "%timeit calc_Madelung1(50)"
   ]
  },
  {
   "cell_type": "markdown",
   "metadata": {},
   "source": [
    "Question 3:"
   ]
  },
  {
   "cell_type": "code",
   "execution_count": 7,
   "metadata": {},
   "outputs": [
    {
     "data": {
      "image/png": "[encoded data removed]",
      "text/plain": [
       "<Figure size 640x480 with 1 Axes>"
      ]
     },
     "metadata": {},
     "output_type": "display_data"
    }
   ],
   "source": [
    "import matplotlib.pyplot as plt\n",
    "x = np.linspace(-2,2,100)\n",
    "y = np.linspace(-2,2,100)\n",
    "X,Y = np.meshgrid(x,y)\n",
    "Z = X+1j*Y\n",
    "for _ in range(100):\n",
    "    mask = np.abs(Z) < 2\n",
    "    Z[mask] = Z[mask]**2 + (X[mask]+1j*Y[mask])\n",
    "plt.imshow(np.abs(Z) < 2, extent = (-2,2,-2,2),origin = 'lower', cmap = 'gray' )\n",
    "plt.xlabel('X (real)')\n",
    "plt.ylabel('Y (i)')\n",
    "plt.show()\n",
    "\n",
    "\n",
    "\n"
   ]
  },
  {
   "cell_type": "markdown",
   "metadata": {},
   "source": [
    "Question 4:"
   ]
  },
  {
   "cell_type": "code",
   "execution_count": 6,
   "metadata": {},
   "outputs": [
    {
     "name": "stdout",
     "output_type": "stream",
     "text": [
      "(-9.999894245993346e-07, -999999.999999)\n",
      "(-1000010.5755125057, -1.000000000001e-06)\n"
     ]
    }
   ],
   "source": [
    "def quadratic_formula(a,b,c):\n",
    "    a, b, c = np.float64(a), np.float64(b), np.float64(c)\n",
    "    root_1 = (-b+np.sqrt(b**2-4*a*c))/(2*a)\n",
    "    root_2 = (-b-np.sqrt(b**2-4*a*c))/(2*a)\n",
    "    if root_1 != root_2:\n",
    "        return root_1,root_2\n",
    "    return root_1\n",
    "def quadratic_formula2(a,b,c):\n",
    "    a, b, c = np.float64(a), np.float64(b), np.float64(c)\n",
    "    root_1 = 2*c/(-b + np.sqrt(b**2-4*a*c))\n",
    "    root_2 = 2*c/(-b - np.sqrt(b**2-4*a*c))\n",
    "    if root_1 != root_2:\n",
    "        return root_1,root_2\n",
    "    return root_1\n",
    "print(quadratic_formula(.001,1000,.001))\n",
    "print(quadratic_formula2(.001,1000,.001))\n",
    "\n",
    "\n"
   ]
  }
 ],
 "metadata": {
  "kernelspec": {
   "display_name": "venv",
   "language": "python",
   "name": "python3"
  },
  "language_info": {
   "codemirror_mode": {
    "name": "ipython",
    "version": 3
   },
   "file_extension": ".py",
   "mimetype": "text/x-python",
   "name": "python",
   "nbconvert_exporter": "python",
   "pygments_lexer": "ipython3",
   "version": "3.8.2"
  },
  "orig_nbformat": 4
 },
 "nbformat": 4,
 "nbformat_minor": 2
}
